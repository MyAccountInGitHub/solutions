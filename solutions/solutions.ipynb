{
 "cells": [
  {
   "cell_type": "code",
   "execution_count": 301,
   "metadata": {},
   "outputs": [],
   "source": [
    "import itertools as itertools"
   ]
  },
  {
   "cell_type": "code",
   "execution_count": 302,
   "metadata": {},
   "outputs": [],
   "source": [
    "def get_hidden_sector(l):\n",
    "\n",
    "    com = list(itertools.combinations_with_replacement(l, 2))\n",
    "    suma = set([abs(sum(i)) for i in com])\n",
    "\n",
    "    final = []\n",
    "\n",
    "    for s in suma:\n",
    "        cond = [i for i in com if abs(sum(i)) == s]\n",
    "        aplanar = [item for sublist in cond for item in sublist]\n",
    "        resta = set(l).difference(set(aplanar))\n",
    "\n",
    "        if not resta:\n",
    "            l_ = l\n",
    "            cond_ = cond\n",
    "            N = len(l)\n",
    "\n",
    "            combs = []\n",
    "\n",
    "            equal = [par for par in cond_ if par[0] == par[1]]\n",
    "\n",
    "            for par in equal:\n",
    "                ind = []\n",
    "                for val in par:\n",
    "                    try:\n",
    "                        ind.append(l_.index(val))\n",
    "                    except:\n",
    "                        pass\n",
    "                for ind_ in ind:\n",
    "                    l_[ind_] = 0\n",
    "\n",
    "                if len(set(ind)) == 1:\n",
    "                    N = N - 1\n",
    "                elif len(set(ind)) != 1:\n",
    "                    N = N - len(set(ind))\n",
    "\n",
    "                combs.append(par)\n",
    "\n",
    "            ind_eq = [cond.index(eq) for eq in equal]\n",
    "            for ind in ind_eq:\n",
    "                cond_.pop(ind)\n",
    "\n",
    "            for par in cond_:\n",
    "                try:\n",
    "                    for val in par:\n",
    "                        l_[l_.index(val)] = 0\n",
    "                    N = N - 2\n",
    "                    combs.append(par)\n",
    "                except:\n",
    "                    pass\n",
    "                    # print(\"Discharge pair\", par)\n",
    "\n",
    "            if N == 0:\n",
    "                final.append({\"S\": s, \"ψ\": combs})\n",
    "\n",
    "            del l_, cond_\n",
    "\n",
    "    return final"
   ]
  },
  {
   "cell_type": "code",
   "execution_count": 303,
   "metadata": {},
   "outputs": [],
   "source": [
    "#tests\n",
    "\n",
    "assert get_hidden_sector([2, -3, 4, -5, 11])[0].get('S')==6\n",
    "assert get_hidden_sector([2, 2, -3, 4, 4, -5, 11])[0].get('S')==6\n",
    "assert get_hidden_sector([2, 2, -3, 4, -5, 11])==[]"
   ]
  },
  {
   "cell_type": "code",
   "execution_count": null,
   "metadata": {},
   "outputs": [],
   "source": []
  }
 ],
 "metadata": {
  "kernelspec": {
   "display_name": "Python 3.9.12 ('comp_avanz')",
   "language": "python",
   "name": "python3"
  },
  "language_info": {
   "codemirror_mode": {
    "name": "ipython",
    "version": 3
   },
   "file_extension": ".py",
   "mimetype": "text/x-python",
   "name": "python",
   "nbconvert_exporter": "python",
   "pygments_lexer": "ipython3",
   "version": "3.9.12"
  },
  "orig_nbformat": 4,
  "vscode": {
   "interpreter": {
    "hash": "add0685a1965005be9be0975996da26f37d5472cceef27ccf55a2f3f6645711f"
   }
  }
 },
 "nbformat": 4,
 "nbformat_minor": 2
}
