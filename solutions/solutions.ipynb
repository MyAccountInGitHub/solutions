{
 "cells": [
  {
   "cell_type": "code",
   "execution_count": 11,
   "metadata": {},
   "outputs": [
    {
     "name": "stdout",
     "output_type": "stream",
     "text": [
      "local loading\n"
     ]
    }
   ],
   "source": [
    "import itertools as itertools\n",
    "import pandas as pd\n",
    "import os\n",
    "\n",
    "if not os.path.exists('solutions.json'):\n",
    "    print('remote loading')\n",
    "    df=pd.read_json('https://zenodo.org/record/5526707/files/solutions.json?download=1')\n",
    "    df.to_json('solutions.json',orient='records')\n",
    "else:\n",
    "    print('local loading')\n",
    "    df=pd.read_json('solutions.json')"
   ]
  },
  {
   "cell_type": "code",
   "execution_count": 23,
   "metadata": {},
   "outputs": [],
   "source": [
    "def get_hidden_sector(l):\n",
    "    \n",
    "    com = list(itertools.combinations_with_replacement(l,2))\n",
    "    suma = set([abs(sum(i)) for i in com])\n",
    "    \n",
    "    #print(l, com, suma)\n",
    "\n",
    "    final = []\n",
    "\n",
    "    for s in suma:\n",
    "        cond = [i for i in com if abs(sum(i))==s]\n",
    "        aplanar = set([item for sublist in cond for item in sublist])\n",
    "        resta = set(l).difference(aplanar)\n",
    "\n",
    "        #print(aplanar, resta, cond)\n",
    "\n",
    "        if not resta:\n",
    "            final.append({'S':s, 'ψ':cond})\n",
    "        \n",
    "    return final"
   ]
  },
  {
   "cell_type": "code",
   "execution_count": 24,
   "metadata": {},
   "outputs": [],
   "source": [
    "assert get_hidden_sector([2, -3, 4, -5, 11])"
   ]
  },
  {
   "cell_type": "code",
   "execution_count": 26,
   "metadata": {},
   "outputs": [
    {
     "data": {
      "text/plain": [
       "[{'S': 6, 'ψ': [(2, 4), (2, 4), (-3, -3), (-5, 11)]}]"
      ]
     },
     "execution_count": 26,
     "metadata": {},
     "output_type": "execute_result"
    }
   ],
   "source": [
    "get_hidden_sector([2, 2, -3, 4, -5, 11])"
   ]
  },
  {
   "cell_type": "code",
   "execution_count": null,
   "metadata": {},
   "outputs": [],
   "source": []
  },
  {
   "cell_type": "markdown",
   "metadata": {},
   "source": []
  },
  {
   "cell_type": "code",
   "execution_count": null,
   "metadata": {},
   "outputs": [],
   "source": []
  },
  {
   "cell_type": "code",
   "execution_count": null,
   "metadata": {},
   "outputs": [],
   "source": []
  },
  {
   "cell_type": "code",
   "execution_count": null,
   "metadata": {},
   "outputs": [],
   "source": []
  },
  {
   "cell_type": "code",
   "execution_count": null,
   "metadata": {},
   "outputs": [],
   "source": []
  }
 ],
 "metadata": {
  "kernelspec": {
   "display_name": "Python 3.9.12 ('comp_avanz')",
   "language": "python",
   "name": "python3"
  },
  "language_info": {
   "codemirror_mode": {
    "name": "ipython",
    "version": 3
   },
   "file_extension": ".py",
   "mimetype": "text/x-python",
   "name": "python",
   "nbconvert_exporter": "python",
   "pygments_lexer": "ipython3",
   "version": "3.9.12"
  },
  "orig_nbformat": 4,
  "vscode": {
   "interpreter": {
    "hash": "add0685a1965005be9be0975996da26f37d5472cceef27ccf55a2f3f6645711f"
   }
  }
 },
 "nbformat": 4,
 "nbformat_minor": 2
}
